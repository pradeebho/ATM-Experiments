{
 "cells": [
  {
   "cell_type": "markdown",
   "id": "405fddb6",
   "metadata": {},
   "source": [
    "# Split the documents in words."
   ]
  },
  {
   "cell_type": "code",
   "execution_count": 1,
   "id": "9d323436",
   "metadata": {},
   "outputs": [],
   "source": [
    "import math\n",
    "import string\n",
    "import sys"
   ]
  },
  {
   "cell_type": "code",
   "execution_count": 2,
   "id": "e4028899",
   "metadata": {},
   "outputs": [],
   "source": [
    "# This function will return a list of the lines of text in the file.\n",
    "def read_file(filename): \n",
    "      \n",
    "    try:\n",
    "        with open(filename, 'r') as f:\n",
    "            data = f.read()\n",
    "        return data\n",
    "      \n",
    "    except IOError:\n",
    "        print(\"Error opening or reading input file: \", filename)\n",
    "        sys.exit()\n",
    "  "
   ]
  },
  {
   "cell_type": "code",
   "execution_count": 3,
   "id": "2e7ff62e",
   "metadata": {},
   "outputs": [],
   "source": [
    "# splitting the text lines into words\n",
    "# mapping upper case to lower case and\n",
    "# punctuation to spaces\n",
    "translation_table = str.maketrans(string.punctuation+string.ascii_uppercase,\n",
    "                    \" \"*len(string.punctuation)+string.ascii_lowercase)"
   ]
  },
  {
   "cell_type": "code",
   "execution_count": 4,
   "id": "d4e28ed9",
   "metadata": {},
   "outputs": [
    {
     "data": {
      "text/plain": [
       "{33: 32,\n",
       " 34: 32,\n",
       " 35: 32,\n",
       " 36: 32,\n",
       " 37: 32,\n",
       " 38: 32,\n",
       " 39: 32,\n",
       " 40: 32,\n",
       " 41: 32,\n",
       " 42: 32,\n",
       " 43: 32,\n",
       " 44: 32,\n",
       " 45: 32,\n",
       " 46: 32,\n",
       " 47: 32,\n",
       " 58: 32,\n",
       " 59: 32,\n",
       " 60: 32,\n",
       " 61: 32,\n",
       " 62: 32,\n",
       " 63: 32,\n",
       " 64: 32,\n",
       " 91: 32,\n",
       " 92: 32,\n",
       " 93: 32,\n",
       " 94: 32,\n",
       " 95: 32,\n",
       " 96: 32,\n",
       " 123: 32,\n",
       " 124: 32,\n",
       " 125: 32,\n",
       " 126: 32,\n",
       " 65: 97,\n",
       " 66: 98,\n",
       " 67: 99,\n",
       " 68: 100,\n",
       " 69: 101,\n",
       " 70: 102,\n",
       " 71: 103,\n",
       " 72: 104,\n",
       " 73: 105,\n",
       " 74: 106,\n",
       " 75: 107,\n",
       " 76: 108,\n",
       " 77: 109,\n",
       " 78: 110,\n",
       " 79: 111,\n",
       " 80: 112,\n",
       " 81: 113,\n",
       " 82: 114,\n",
       " 83: 115,\n",
       " 84: 116,\n",
       " 85: 117,\n",
       " 86: 118,\n",
       " 87: 119,\n",
       " 88: 120,\n",
       " 89: 121,\n",
       " 90: 122}"
      ]
     },
     "execution_count": 4,
     "metadata": {},
     "output_type": "execute_result"
    }
   ],
   "source": [
    "translation_table"
   ]
  },
  {
   "cell_type": "code",
   "execution_count": 4,
   "id": "33ba7b75",
   "metadata": {},
   "outputs": [],
   "source": [
    "# returns a list of the words in the file\n",
    "def get_words_from_line_list(text): \n",
    "      \n",
    "    text = text.translate(translation_table)\n",
    "    word_list = text.split()\n",
    "      \n",
    "    return word_list"
   ]
  },
  {
   "cell_type": "markdown",
   "id": "4e523552",
   "metadata": {},
   "source": [
    "Now that we have the word list, we will now calculate the frequency of occurrences of the words.1"
   ]
  },
  {
   "cell_type": "code",
   "execution_count": 5,
   "id": "20d6d6ec",
   "metadata": {},
   "outputs": [],
   "source": [
    "# counts frequency of each word\n",
    "# returns a dictionary which maps the words to  their frequency.\n",
    "def count_frequency(word_list): \n",
    "      \n",
    "    D = {}\n",
    "      \n",
    "    for new_word in word_list:\n",
    "          \n",
    "        if new_word in D:\n",
    "            D[new_word] = D[new_word] + 1\n",
    "              \n",
    "        else:\n",
    "            D[new_word] = 1\n",
    "              \n",
    "    return D\n"
   ]
  },
  {
   "cell_type": "code",
   "execution_count": 6,
   "id": "2b4494bb",
   "metadata": {},
   "outputs": [],
   "source": [
    "# returns dictionary of (word, frequency) pairs from the previous dictionary.\n",
    "def word_frequencies_for_file(filename): \n",
    "      \n",
    "    line_list = read_file(filename)\n",
    "    word_list = get_words_from_line_list(line_list)\n",
    "    freq_mapping = count_frequency(word_list)\n",
    "  \n",
    "    print(\"File\", filename, \":\", )\n",
    "    print(len(line_list), \"lines, \", )\n",
    "    print(len(word_list), \"words, \", )\n",
    "    print(len(freq_mapping), \"distinct words\")\n",
    "  \n",
    "    return freq_mapping"
   ]
  },
  {
   "cell_type": "markdown",
   "id": "1b524408",
   "metadata": {},
   "source": [
    "Lastly, we will calculate the dot product to give the document distance."
   ]
  },
  {
   "cell_type": "code",
   "execution_count": 7,
   "id": "20a27d0f",
   "metadata": {},
   "outputs": [],
   "source": [
    "# returns the dot product of two documents\n",
    "def dotProduct(D1, D2): \n",
    "    Sum = 0.0\n",
    "      \n",
    "    for key in D1:\n",
    "          \n",
    "        if key in D2:\n",
    "            Sum += (D1[key] * D2[key])\n",
    "              \n",
    "    return Sum"
   ]
  },
  {
   "cell_type": "code",
   "execution_count": 8,
   "id": "42b13d03",
   "metadata": {},
   "outputs": [],
   "source": [
    "# returns the angle in radians between document vectors\n",
    "def vector_angle(D1, D2): \n",
    "    numerator = dotProduct(D1, D2)\n",
    "    denominator = math.sqrt(dotProduct(D1, D1)*dotProduct(D2, D2))\n",
    "      \n",
    "    return math.acos(numerator / denominator)"
   ]
  },
  {
   "cell_type": "code",
   "execution_count": 10,
   "id": "02c5c8d1",
   "metadata": {},
   "outputs": [],
   "source": [
    "def documentSimilarity(filename_1, filename_2):\n",
    "      \n",
    "   # filename_1 = sys.argv[1]\n",
    "   # filename_2 = sys.argv[2]\n",
    "    sorted_word_list_1 = word_frequencies_for_file(filename_1)\n",
    "    sorted_word_list_2 = word_frequencies_for_file(filename_2)\n",
    "    distance = vector_angle(sorted_word_list_1, sorted_word_list_2)\n",
    "      \n",
    "    print(\"The distance between the documents is: % 0.6f (radians)\"% distance)\n"
   ]
  },
  {
   "cell_type": "code",
   "execution_count": 12,
   "id": "f56d71b7",
   "metadata": {},
   "outputs": [
    {
     "name": "stdout",
     "output_type": "stream",
     "text": [
      "File Document1.txt :\n",
      "23 lines, \n",
      "5 words, \n",
      "5 distinct words\n",
      "File Document2.txt :\n",
      "71 lines, \n",
      "11 words, \n",
      "11 distinct words\n",
      "The distance between the documents is:  0.830916 (radians)\n"
     ]
    }
   ],
   "source": [
    "# Driver code\n",
    "documentSimilarity('Document1.txt', 'Document2.txt')"
   ]
  },
  {
   "cell_type": "code",
   "execution_count": null,
   "id": "c38a31c3",
   "metadata": {},
   "outputs": [],
   "source": []
  }
 ],
 "metadata": {
  "kernelspec": {
   "display_name": "Python 3",
   "language": "python",
   "name": "python3"
  },
  "language_info": {
   "codemirror_mode": {
    "name": "ipython",
    "version": 3
   },
   "file_extension": ".py",
   "mimetype": "text/x-python",
   "name": "python",
   "nbconvert_exporter": "python",
   "pygments_lexer": "ipython3",
   "version": "3.8.8"
  }
 },
 "nbformat": 4,
 "nbformat_minor": 5
}
