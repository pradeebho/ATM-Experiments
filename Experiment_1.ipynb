{
 "cells": [
  {
   "cell_type": "markdown",
   "id": "03087ae0",
   "metadata": {},
   "source": [
    "## Q1. Write a python program to demonstrate use of regular expressions methods match(), search(), findall() and validate phone numbers, email address, and social security number."
   ]
  },
  {
   "cell_type": "code",
   "execution_count": 1,
   "id": "3b87e016",
   "metadata": {},
   "outputs": [],
   "source": [
    "import re"
   ]
  },
  {
   "cell_type": "markdown",
   "id": "ae5d1986",
   "metadata": {},
   "source": [
    "#### search()"
   ]
  },
  {
   "cell_type": "code",
   "execution_count": 2,
   "id": "7b086bcb",
   "metadata": {},
   "outputs": [
    {
     "data": {
      "text/plain": [
       "<re.Match object; span=(11, 12), match=' '>"
      ]
     },
     "execution_count": 2,
     "metadata": {},
     "output_type": "execute_result"
    }
   ],
   "source": [
    "txt = \"Demonstrate use of regular expressions methods\"\n",
    "x = re.search(\"\\s\", txt)\n",
    "x"
   ]
  },
  {
   "cell_type": "code",
   "execution_count": 3,
   "id": "55d993be",
   "metadata": {},
   "outputs": [
    {
     "data": {
      "text/plain": [
       "<re.Match object; span=(1, 2), match='e'>"
      ]
     },
     "execution_count": 3,
     "metadata": {},
     "output_type": "execute_result"
    }
   ],
   "source": [
    "y = re.search('e', txt)\n",
    "y"
   ]
  },
  {
   "cell_type": "markdown",
   "id": "8128cc0d",
   "metadata": {},
   "source": [
    "#### findall()"
   ]
  },
  {
   "cell_type": "code",
   "execution_count": 4,
   "id": "2fcd8919",
   "metadata": {},
   "outputs": [
    {
     "name": "stdout",
     "output_type": "stream",
     "text": [
      "['re', 're']\n"
     ]
    }
   ],
   "source": [
    "z = re.findall('re', txt)\n",
    "print(z)"
   ]
  },
  {
   "cell_type": "markdown",
   "id": "c8615fd9",
   "metadata": {},
   "source": [
    "#### match()"
   ]
  },
  {
   "cell_type": "code",
   "execution_count": 5,
   "id": "38fe0d21",
   "metadata": {},
   "outputs": [
    {
     "name": "stdout",
     "output_type": "stream",
     "text": [
      "<re.Match object; span=(0, 46), match='Demonstrate use of regular expressions methods'>\n"
     ]
    }
   ],
   "source": [
    "m = re.match(\"Demonstrate use of regular expressions methods\", txt)\n",
    "print(m)"
   ]
  },
  {
   "cell_type": "markdown",
   "id": "b6a50da4",
   "metadata": {},
   "source": [
    "### validate email"
   ]
  },
  {
   "cell_type": "code",
   "execution_count": 6,
   "id": "b4bba371",
   "metadata": {},
   "outputs": [],
   "source": [
    "regex_for_email = r'\\b[A-Za-z0-9._%+-]+@[A-Za-z0-9.-]+\\.[A-Z|a-z]{2,}\\b'\n",
    " \n",
    "def check_email(email):\n",
    "    if(re.fullmatch(regex_for_email, email)):\n",
    "        print(\"Valid Email\")\n",
    "    else:\n",
    "        print(\"Invalid Email\")\n",
    " "
   ]
  },
  {
   "cell_type": "code",
   "execution_count": null,
   "id": "1803bc9e",
   "metadata": {},
   "outputs": [],
   "source": [
    "email = input(\"Enter your email\")\n",
    "check_email(email)"
   ]
  },
  {
   "cell_type": "markdown",
   "id": "2746b85f",
   "metadata": {},
   "source": [
    "### validate phone number"
   ]
  },
  {
   "cell_type": "code",
   "execution_count": null,
   "id": "879d912d",
   "metadata": {},
   "outputs": [],
   "source": [
    "def check_phone_number(ph_no):\n",
    "    pattern = re.compile(\"(0|91)?[7-9][0-9]{9}\")\n",
    "    return pattern.match(ph_no)"
   ]
  },
  {
   "cell_type": "code",
   "execution_count": null,
   "id": "70ae5810",
   "metadata": {},
   "outputs": [],
   "source": [
    "ph_no = input(\"Enter your phone number\")\n",
    "if(check_phone_number(ph_no)):\n",
    "    print(\"Valid phone number\")      \n",
    "else:\n",
    "    print(\"Phone number not valid\")"
   ]
  },
  {
   "cell_type": "markdown",
   "id": "832ec49d",
   "metadata": {},
   "source": [
    "### validate security number"
   ]
  },
  {
   "cell_type": "code",
   "execution_count": null,
   "id": "73836ab7",
   "metadata": {},
   "outputs": [],
   "source": [
    "def security_number(sc_no):\n",
    "    pattern = re.compile(\"[0-9]{4}\")\n",
    "    return pattern.match(sc_no)"
   ]
  },
  {
   "cell_type": "code",
   "execution_count": null,
   "id": "6c9d349c",
   "metadata": {},
   "outputs": [],
   "source": [
    "sc_no = input(\"Enter your security number\")\n",
    "if(security_number(sc_no)):\n",
    "    print(\"Valid security number\")      \n",
    "else:\n",
    "    print(\"Ecurity number not valid\")"
   ]
  },
  {
   "cell_type": "code",
   "execution_count": null,
   "id": "c43388b4",
   "metadata": {},
   "outputs": [],
   "source": []
  }
 ],
 "metadata": {
  "kernelspec": {
   "display_name": "Python 3 (ipykernel)",
   "language": "python",
   "name": "python3"
  },
  "language_info": {
   "codemirror_mode": {
    "name": "ipython",
    "version": 3
   },
   "file_extension": ".py",
   "mimetype": "text/x-python",
   "name": "python",
   "nbconvert_exporter": "python",
   "pygments_lexer": "ipython3",
   "version": "3.9.7"
  }
 },
 "nbformat": 4,
 "nbformat_minor": 5
}
