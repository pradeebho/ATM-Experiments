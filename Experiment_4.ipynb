{
 "cells": [
  {
   "cell_type": "markdown",
   "id": "0de880c9",
   "metadata": {},
   "source": [
    "# Q4. Write a python program to classify documents in specified category"
   ]
  },
  {
   "cell_type": "markdown",
   "id": "47735306",
   "metadata": {},
   "source": [
    "## Import libraries"
   ]
  },
  {
   "cell_type": "code",
   "execution_count": 1,
   "id": "7669394e",
   "metadata": {},
   "outputs": [],
   "source": [
    "import pandas as pd\n",
    "import numpy as np\n",
    "import matplotlib.pyplot as plt\n",
    "import seaborn as sns\n",
    "from sklearn.naive_bayes import MultinomialNB"
   ]
  },
  {
   "cell_type": "markdown",
   "id": "92cc8b83",
   "metadata": {},
   "source": [
    "##  Import dataset from sklearn library (fetch_20newsgroup)"
   ]
  },
  {
   "cell_type": "code",
   "execution_count": 2,
   "id": "9c3dfcf3",
   "metadata": {},
   "outputs": [],
   "source": [
    "from sklearn.datasets import fetch_20newsgroups\n",
    "twenty_train = fetch_20newsgroups(subset='train', shuffle=True)"
   ]
  },
  {
   "cell_type": "code",
   "execution_count": 3,
   "id": "4b8ff534",
   "metadata": {},
   "outputs": [
    {
     "name": "stdout",
     "output_type": "stream",
     "text": [
      "From: lerxst@wam.umd.edu (where's my thing)\n",
      "Subject: WHAT car is this!?\n",
      "Nntp-Posting-Host: rac3.wam.umd.edu\n"
     ]
    }
   ],
   "source": [
    "twenty_train.target_names                                    #prints all the categories\n",
    "print(\"\\n\".join(twenty_train.data[0].split(\"\\n\")[:3]))       #prints first line of the first data file"
   ]
  },
  {
   "cell_type": "markdown",
   "id": "32b838d0",
   "metadata": {},
   "source": [
    "# Extract features from text files"
   ]
  },
  {
   "cell_type": "code",
   "execution_count": 4,
   "id": "67d640b1",
   "metadata": {},
   "outputs": [
    {
     "data": {
      "text/plain": [
       "(11314, 130107)"
      ]
     },
     "execution_count": 4,
     "metadata": {},
     "output_type": "execute_result"
    }
   ],
   "source": [
    "from sklearn.feature_extraction.text import CountVectorizer\n",
    "count_vect = CountVectorizer()\n",
    "X_train_counts = count_vect.fit_transform(twenty_train.data)\n",
    "X_train_counts.shape"
   ]
  },
  {
   "cell_type": "code",
   "execution_count": 5,
   "id": "6fcbd148",
   "metadata": {},
   "outputs": [
    {
     "data": {
      "text/plain": [
       "(11314, 130107)"
      ]
     },
     "execution_count": 5,
     "metadata": {},
     "output_type": "execute_result"
    }
   ],
   "source": [
    "from sklearn.feature_extraction.text import TfidfTransformer\n",
    "tfidf_transformer = TfidfTransformer()\n",
    "X_train_tfidf = tfidf_transformer.fit_transform(X_train_counts)\n",
    "X_train_tfidf.shape"
   ]
  },
  {
   "cell_type": "markdown",
   "id": "8493c1b1",
   "metadata": {},
   "source": [
    "# Build a ML model"
   ]
  },
  {
   "cell_type": "code",
   "execution_count": 6,
   "id": "805a18cd",
   "metadata": {},
   "outputs": [],
   "source": [
    "from sklearn.pipeline import Pipeline\n",
    "\n",
    "text_clf = Pipeline([('vect', CountVectorizer()), ('tfidf', TfidfTransformer()), ('clf', MultinomialNB())])\n",
    "text_clf = text_clf.fit(twenty_train.data, twenty_train.target)"
   ]
  },
  {
   "cell_type": "markdown",
   "id": "08a3fc9d",
   "metadata": {},
   "source": [
    "### from fetch_20newsgroups download test subset"
   ]
  },
  {
   "cell_type": "code",
   "execution_count": 7,
   "id": "00964b6a",
   "metadata": {},
   "outputs": [],
   "source": [
    "twenty_test = fetch_20newsgroups(subset='test', shuffle=True)"
   ]
  },
  {
   "cell_type": "markdown",
   "id": "bb725fba",
   "metadata": {},
   "source": [
    "### predict the output"
   ]
  },
  {
   "cell_type": "code",
   "execution_count": 8,
   "id": "fc83609a",
   "metadata": {},
   "outputs": [],
   "source": [
    "y_predict = text_clf.predict(twenty_test.data)"
   ]
  },
  {
   "cell_type": "markdown",
   "id": "e3801d2e",
   "metadata": {},
   "source": [
    "### calculate the accuracy of the model"
   ]
  },
  {
   "cell_type": "code",
   "execution_count": 9,
   "id": "1e5f5f64",
   "metadata": {},
   "outputs": [],
   "source": [
    "from sklearn.metrics import accuracy_score\n",
    "ac=accuracy_score(twenty_test.target,y_predict)"
   ]
  },
  {
   "cell_type": "code",
   "execution_count": 10,
   "id": "ffa17730",
   "metadata": {},
   "outputs": [
    {
     "name": "stdout",
     "output_type": "stream",
     "text": [
      "Accuracy score of the model is :  0.7738980350504514\n"
     ]
    }
   ],
   "source": [
    "print(\"Accuracy score of the model is : \", ac)"
   ]
  },
  {
   "cell_type": "code",
   "execution_count": null,
   "id": "74ebbf9a",
   "metadata": {},
   "outputs": [],
   "source": []
  }
 ],
 "metadata": {
  "kernelspec": {
   "display_name": "Python 3 (ipykernel)",
   "language": "python",
   "name": "python3"
  },
  "language_info": {
   "codemirror_mode": {
    "name": "ipython",
    "version": 3
   },
   "file_extension": ".py",
   "mimetype": "text/x-python",
   "name": "python",
   "nbconvert_exporter": "python",
   "pygments_lexer": "ipython3",
   "version": "3.9.7"
  }
 },
 "nbformat": 4,
 "nbformat_minor": 5
}
