{
 "cells": [
  {
   "cell_type": "code",
   "execution_count": 1,
   "id": "5f4a08f6",
   "metadata": {},
   "outputs": [
    {
     "name": "stderr",
     "output_type": "stream",
     "text": [
      "[nltk_data] Downloading package words to\n",
      "[nltk_data]     C:\\Users\\user\\AppData\\Roaming\\nltk_data...\n",
      "[nltk_data]   Package words is already up-to-date!\n"
     ]
    }
   ],
   "source": [
    "import nltk\n",
    "from nltk.corpus import words\n",
    "from nltk.metrics.distance import (\n",
    "    edit_distance,\n",
    "    jaccard_distance,\n",
    "    )\n",
    "from nltk.util import ngrams\n",
    "nltk.download('words')\n",
    "import pandas"
   ]
  },
  {
   "cell_type": "code",
   "execution_count": 2,
   "id": "9f6e87ea",
   "metadata": {},
   "outputs": [
    {
     "data": {
      "text/plain": [
       "0                 A\n",
       "1                 a\n",
       "2                aa\n",
       "3               aal\n",
       "4             aalii\n",
       "            ...    \n",
       "236731       yellow\n",
       "236732          yes\n",
       "236733    yesterday\n",
       "236734          you\n",
       "236735        young\n",
       "Length: 236736, dtype: object"
      ]
     },
     "execution_count": 2,
     "metadata": {},
     "output_type": "execute_result"
    }
   ],
   "source": [
    "correct_spellings = words.words()\n",
    "spellings_series = pandas.Series(correct_spellings)\n",
    "spellings_series"
   ]
  },
  {
   "cell_type": "markdown",
   "id": "dabcbb0d",
   "metadata": {},
   "source": [
    "# Recommender 1\n",
    "Metric: Jaccard Distance"
   ]
  },
  {
   "cell_type": "code",
   "execution_count": 3,
   "id": "1f4f38b1",
   "metadata": {},
   "outputs": [],
   "source": [
    "def jaccard(entries, gram_number):\n",
    "    \n",
    "    outcomes = []\n",
    "    for entry in entries: #iteratively for loop\n",
    "        spellings = spellings_series[spellings_series.str.startswith(entry[0])] \n",
    "        distances = ((jaccard_distance(set(ngrams(entry, gram_number)),\n",
    "                                       set(ngrams(word, gram_number))), word)\n",
    "                     for word in spellings)\n",
    "        closest = min(distances)\n",
    "        outcomes.append(closest[1])\n",
    "    return outcomes"
   ]
  },
  {
   "cell_type": "code",
   "execution_count": 4,
   "id": "c63a2b34",
   "metadata": {},
   "outputs": [
    {
     "name": "stdout",
     "output_type": "stream",
     "text": [
      "['corpulent', 'indecence', 'validate']\n"
     ]
    }
   ],
   "source": [
    "def JDreco(entries=['cormulent', 'incendenece', 'validrate']):\n",
    "    \"\"\"finds the closest word based on jaccard distance\"\"\"\n",
    "    return jaccard(entries, 3)\n",
    "print(JDreco())"
   ]
  },
  {
   "cell_type": "markdown",
   "id": "57f8fea6",
   "metadata": {},
   "source": [
    "# Recommender 2\n",
    "Metric: Edit Distance, AKA Levenshtein distance."
   ]
  },
  {
   "cell_type": "code",
   "execution_count": 5,
   "id": "c2e0ae22",
   "metadata": {},
   "outputs": [
    {
     "data": {
      "text/plain": [
       "['corpulent', 'intendence', 'validate']"
      ]
     },
     "execution_count": 5,
     "metadata": {},
     "output_type": "execute_result"
    }
   ],
   "source": [
    "def editreco(entries=['cormulent', 'incendenece', 'validrate']):\n",
    "\n",
    "    outcomes = []\n",
    "    for entry in entries:\n",
    "        distances = ((edit_distance(entry,\n",
    "                                    word), word)\n",
    "                     for word in correct_spellings)\n",
    "        closest = min(distances)\n",
    "        outcomes.append(closest[1])\n",
    "    return outcomes\n",
    "\n",
    "\n",
    "editreco()"
   ]
  },
  {
   "cell_type": "code",
   "execution_count": 6,
   "id": "486715cd",
   "metadata": {},
   "outputs": [
    {
     "name": "stdout",
     "output_type": "stream",
     "text": [
      "threa woeds pleese: sbdjsdb abndgjkw ndhlkahd\n",
      "threa woeds pleese: cds\n",
      "threa woeds pleese: dcf\n"
     ]
    },
    {
     "data": {
      "text/plain": [
       "['sbdjsdb abndgjkw ndhlkahd', 'cds', 'dcf']"
      ]
     },
     "execution_count": 6,
     "metadata": {},
     "output_type": "execute_result"
    }
   ],
   "source": [
    "userinput = []\n",
    "for i in range(0,3):\n",
    "    word = input(\"threa woeds pleese: \")\n",
    "    userinput.append(word)\n",
    "    \n",
    "userinput"
   ]
  },
  {
   "cell_type": "code",
   "execution_count": null,
   "id": "577f0b1d",
   "metadata": {},
   "outputs": [],
   "source": []
  }
 ],
 "metadata": {
  "kernelspec": {
   "display_name": "Python 3",
   "language": "python",
   "name": "python3"
  },
  "language_info": {
   "codemirror_mode": {
    "name": "ipython",
    "version": 3
   },
   "file_extension": ".py",
   "mimetype": "text/x-python",
   "name": "python",
   "nbconvert_exporter": "python",
   "pygments_lexer": "ipython3",
   "version": "3.8.8"
  }
 },
 "nbformat": 4,
 "nbformat_minor": 5
}
