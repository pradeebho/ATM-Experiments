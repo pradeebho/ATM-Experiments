{
 "cells": [
  {
   "cell_type": "markdown",
   "id": "486d93e6",
   "metadata": {},
   "source": [
    "All the regex functions in Python are in the re module"
   ]
  },
  {
   "cell_type": "code",
   "execution_count": 1,
   "id": "b13cec7a",
   "metadata": {},
   "outputs": [],
   "source": [
    "import re"
   ]
  },
  {
   "cell_type": "markdown",
   "id": "41447a9c",
   "metadata": {},
   "source": [
    "# match() and search()"
   ]
  },
  {
   "cell_type": "markdown",
   "id": "eaf9fcac",
   "metadata": {},
   "source": [
    "Match() :\n",
    "It returns the first match of a substring found in the string, but it searches only from the beginning of the string and return match object if found. But if a match of substring is found somewhere in the middle of the string, it returns none. "
   ]
  },
  {
   "cell_type": "markdown",
   "id": "a06f3d6b",
   "metadata": {},
   "source": [
    "Search(): It searches for the whole string even if the string contains multi-lines and tries to find a match of the substring in all the lines of string."
   ]
  },
  {
   "cell_type": "code",
   "execution_count": 12,
   "id": "e48c1a3c",
   "metadata": {},
   "outputs": [
    {
     "name": "stdout",
     "output_type": "stream",
     "text": [
      "<re.Match object; span=(66, 72), match='string'>\n",
      "None\n",
      "<re.Match object; span=(0, 6), match='string'>\n",
      "<re.Match object; span=(0, 6), match='string'>\n"
     ]
    }
   ],
   "source": [
    "Substring ='string'\n",
    " \n",
    " \n",
    "String1 ='We are learning regex with geeksforgeeks regex is very useful for string matching. It is fast too.'\n",
    "String2 ='string We are learning regex with geeksforgeeks regex is very useful for string matching. It is fast too.'\n",
    " \n",
    " \n",
    "# Use of re.search() Method\n",
    "print(re.search(Substring, String1, re.IGNORECASE))\n",
    "# Use of re.match() Method\n",
    "print(re.match(Substring, String1, re.IGNORECASE))\n",
    " \n",
    "# Use of re.search() Method\n",
    "print(re.search(Substring, String2, re.IGNORECASE))\n",
    "# Use of re.match() Method\n",
    "print(re.match(Substring, String2, re.IGNORECASE))"
   ]
  },
  {
   "cell_type": "code",
   "execution_count": 13,
   "id": "0a2b7be0",
   "metadata": {},
   "outputs": [
    {
     "name": "stdout",
     "output_type": "stream",
     "text": [
      "<re.Match object; span=(3, 11), match='searches'>\n",
      "None\n"
     ]
    }
   ],
   "source": [
    "Substring=\"searches\"\n",
    "\n",
    "String1 = \"It searches for the whole string even if the string contains multi-lines and tries to find a match of the substring in all the lines of string.\"\n",
    "\n",
    "print(re.search(Substring,String1))\n",
    "\n",
    "print(re.match(Substring,String1,re.IGNORECASE))\n",
    "\n"
   ]
  },
  {
   "cell_type": "markdown",
   "id": "fa407540",
   "metadata": {},
   "source": [
    "# findall()"
   ]
  },
  {
   "cell_type": "markdown",
   "id": "73e8f757",
   "metadata": {},
   "source": [
    "re.findall() function returns all non-overlapping matches of a pattern in a string. The function returns all the findings as a list. The search happens from left to right"
   ]
  },
  {
   "cell_type": "code",
   "execution_count": 14,
   "id": "013119db",
   "metadata": {},
   "outputs": [
    {
     "name": "stdout",
     "output_type": "stream",
     "text": [
      "['abc', 'abc']\n"
     ]
    }
   ],
   "source": [
    "import re\n",
    "\n",
    "pattern = 'abc'\n",
    "string = 'abcdefabcab'\n",
    "result = re.findall(pattern, string)\n",
    "print(result)"
   ]
  },
  {
   "cell_type": "markdown",
   "id": "4a195c43",
   "metadata": {},
   "source": [
    "# Email Validation"
   ]
  },
  {
   "cell_type": "code",
   "execution_count": 28,
   "id": "3605f339",
   "metadata": {},
   "outputs": [
    {
     "name": "stdout",
     "output_type": "stream",
     "text": [
      "Valid Email\n",
      "Valid Email\n",
      "Invalid Email\n"
     ]
    }
   ],
   "source": [
    "regex = r'\\b[A-Za-z0-9._%+-]+@[A-Za-z0-9.-]+\\.[A-Z|a-z]{2,}\\b'\n",
    " \n",
    "# Define a function for\n",
    "# for validating an Email\n",
    " \n",
    "def check(email):\n",
    " \n",
    "    # pass the regular expression\n",
    "    # and the string into the fullmatch() method\n",
    "    if(re.fullmatch(regex, email)):\n",
    "        print(\"Valid Email\")\n",
    " \n",
    "    else:\n",
    "        print(\"Invalid Email\")\n",
    " \n",
    " \n",
    "# Driver Code\n",
    "if __name__ == '__main__':\n",
    " \n",
    "    # Enter the email\n",
    "    email = \"ankitrai326@gmail.com\"\n",
    " \n",
    "    # calling run function\n",
    "    check(email)\n",
    " \n",
    "    email = \"my.ownsite@our-earth.org\"\n",
    "    check(email)\n",
    " \n",
    "    email = \"ankitrai326.com\"\n",
    "    check(email)"
   ]
  },
  {
   "cell_type": "markdown",
   "id": "9f663bc5",
   "metadata": {},
   "source": [
    "# Phone number Validation"
   ]
  },
  {
   "cell_type": "code",
   "execution_count": 33,
   "id": "16656d64",
   "metadata": {},
   "outputs": [
    {
     "name": "stdout",
     "output_type": "stream",
     "text": [
      "Invalid Phone Number\n"
     ]
    }
   ],
   "source": [
    "# Python program to check if\n",
    "# given mobile number is valid\n",
    "\n",
    "def isValid(s):\n",
    "\n",
    "    # 1) Begins with 0 or 91\n",
    "    # 2) Then contains 7 or 8 or 9.\n",
    "    # 3) Then contains 9 digits\n",
    "    Pattern = re.compile(\"(0|91)?[7-9][0-9]{9}\")\n",
    "    return Pattern.match(s)\n",
    "\n",
    "# Driver Code\n",
    "s = \"347873923408\"\n",
    "if (isValid(s)):\n",
    "    print (\"Valid Phone Number\")\t\n",
    "else :\n",
    "    print (\"Invalid Phone Number\")\n",
    "\n"
   ]
  },
  {
   "cell_type": "markdown",
   "id": "e1621504",
   "metadata": {},
   "source": [
    "# Security Number Validation"
   ]
  },
  {
   "cell_type": "code",
   "execution_count": 34,
   "id": "44e93b52",
   "metadata": {},
   "outputs": [
    {
     "name": "stdout",
     "output_type": "stream",
     "text": [
      "Valid Security Number\n"
     ]
    }
   ],
   "source": [
    "\n",
    "def isValid(s):\n",
    "    # It contains 4 digits\n",
    "    Pattern = re.compile(\"[0-9]{4}\")\n",
    "    return Pattern.match(s)\n",
    "\n",
    "# Driver Code\n",
    "s = \"3478\"\n",
    "if (isValid(s)):\n",
    "\tprint (\"Valid Security Number\")\t\n",
    "else :\n",
    "\tprint (\"Invalid Security Number\")\n",
    "\n",
    "\n"
   ]
  },
  {
   "cell_type": "code",
   "execution_count": null,
   "id": "1fa77885",
   "metadata": {},
   "outputs": [],
   "source": []
  }
 ],
 "metadata": {
  "kernelspec": {
   "display_name": "Python 3",
   "language": "python",
   "name": "python3"
  },
  "language_info": {
   "codemirror_mode": {
    "name": "ipython",
    "version": 3
   },
   "file_extension": ".py",
   "mimetype": "text/x-python",
   "name": "python",
   "nbconvert_exporter": "python",
   "pygments_lexer": "ipython3",
   "version": "3.8.8"
  }
 },
 "nbformat": 4,
 "nbformat_minor": 5
}
