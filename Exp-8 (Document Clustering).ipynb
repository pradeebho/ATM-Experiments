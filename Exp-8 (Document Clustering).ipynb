{
 "cells": [
  {
   "cell_type": "code",
   "execution_count": 14,
   "id": "a20acfa9",
   "metadata": {},
   "outputs": [],
   "source": [
    "from sklearn.feature_extraction.text import TfidfVectorizer\n",
    "from sklearn.cluster import KMeans\n",
    "import numpy as np\n",
    "import pandas as pd\n",
    "import csv"
   ]
  },
  {
   "cell_type": "code",
   "execution_count": 15,
   "id": "e93ed649",
   "metadata": {},
   "outputs": [
    {
     "name": "stdout",
     "output_type": "stream",
     "text": [
      "(8, 2)\n",
      "['AUTHOR', 'BOOK TITLES']\n"
     ]
    },
    {
     "data": {
      "text/html": [
       "<div>\n",
       "<style scoped>\n",
       "    .dataframe tbody tr th:only-of-type {\n",
       "        vertical-align: middle;\n",
       "    }\n",
       "\n",
       "    .dataframe tbody tr th {\n",
       "        vertical-align: top;\n",
       "    }\n",
       "\n",
       "    .dataframe thead th {\n",
       "        text-align: right;\n",
       "    }\n",
       "</style>\n",
       "<table border=\"1\" class=\"dataframe\">\n",
       "  <thead>\n",
       "    <tr style=\"text-align: right;\">\n",
       "      <th></th>\n",
       "      <th>AUTHOR</th>\n",
       "      <th>BOOK TITLES</th>\n",
       "    </tr>\n",
       "  </thead>\n",
       "  <tbody>\n",
       "    <tr>\n",
       "      <th>count</th>\n",
       "      <td>8</td>\n",
       "      <td>8</td>\n",
       "    </tr>\n",
       "    <tr>\n",
       "      <th>unique</th>\n",
       "      <td>8</td>\n",
       "      <td>8</td>\n",
       "    </tr>\n",
       "    <tr>\n",
       "      <th>top</th>\n",
       "      <td>Brian Christian, Tom Griffiths</td>\n",
       "      <td>Once upon an Algorithm</td>\n",
       "    </tr>\n",
       "    <tr>\n",
       "      <th>freq</th>\n",
       "      <td>1</td>\n",
       "      <td>1</td>\n",
       "    </tr>\n",
       "  </tbody>\n",
       "</table>\n",
       "</div>"
      ],
      "text/plain": [
       "                                AUTHOR             BOOK TITLES\n",
       "count                                8                       8\n",
       "unique                               8                       8\n",
       "top     Brian Christian, Tom Griffiths  Once upon an Algorithm\n",
       "freq                                 1                       1"
      ]
     },
     "execution_count": 15,
     "metadata": {},
     "output_type": "execute_result"
    }
   ],
   "source": [
    "data=pd.read_csv(\"Book1.csv\")\n",
    "print(data.shape)\n",
    "print (list(data.columns))#returns list\n",
    "data.describe()"
   ]
  },
  {
   "cell_type": "code",
   "execution_count": 16,
   "id": "73dc9008",
   "metadata": {},
   "outputs": [
    {
     "name": "stdout",
     "output_type": "stream",
     "text": [
      "['AUTHOR', 'Tim Roughgarden', 'Steven Skiena', 'Kevin Ferguson, Max Pumperla', 'Zed Shaw', 'Brian Christian, Tom Griffiths', 'Jeff Erickson', 'Martin Erwig', 'Max Bramer']\n",
      "['BOOK TITLES', 'Algorithms Illuminated', 'The Data Science Design Manual', 'Deep Learning and the Game of Go', 'Learn Python the Hard Way', 'Algorithms to live by', 'Algorithms', 'Once upon an Algorithm', 'Principles of Data Mining']\n"
     ]
    }
   ],
   "source": [
    "authors = []\n",
    "titles = []\n",
    "with open(\"Book1.csv\") as csvfobj: #csvfobj=object\n",
    "    readCSV= csv.reader(csvfobj, delimiter=',') #as each field is separated by ','\n",
    "    #if file is not in the same project, add file path\n",
    "    #Reader object creates matrix\n",
    "    title = []\n",
    "    #to iterate through file row by row\n",
    "    for row in readCSV:\n",
    "        author = row[0]\n",
    "        title = row[1]\n",
    "        \n",
    "        #adding to the list\n",
    "        authors.append(author)\n",
    "        titles.append(title)\n",
    "        \n",
    "print (authors)\n",
    "print(titles)"
   ]
  },
  {
   "cell_type": "code",
   "execution_count": 22,
   "id": "bf235f86",
   "metadata": {},
   "outputs": [],
   "source": [
    "tfidfvect = TfidfVectorizer(stop_words='english')\n",
    "X = tfidfvect.fit_transform(titles)\n",
    "\n",
    "first_vector = X[0]\n",
    " \n",
    "#dataframe = pd.DataFrame(first_vector.T.todense(), index = vectorizer.get_feature_names(), columns = [\"tfidf\"])\n",
    "#dataframe.sort_values(by = [\"tfidf\"],ascending=False)"
   ]
  },
  {
   "cell_type": "markdown",
   "id": "ca38b984",
   "metadata": {},
   "source": [
    "Finally, the K-Means Clustering model is built using sklearn.cluster.KMeans"
   ]
  },
  {
   "cell_type": "code",
   "execution_count": 23,
   "id": "ea6d2341",
   "metadata": {},
   "outputs": [
    {
     "name": "stdout",
     "output_type": "stream",
     "text": [
      "[[0.5        0.         0.35355339 0.         0.         0.\n",
      "  0.         0.         0.         0.         0.         0.\n",
      "  0.         0.         0.         0.         0.         0.35355339\n",
      "  0.        ]\n",
      " [0.         0.72793763 0.         0.         0.         0.\n",
      "  0.         0.         0.26866889 0.         0.         0.26866889\n",
      "  0.         0.         0.         0.         0.         0.\n",
      "  0.        ]\n",
      " [0.         0.         0.         0.         0.         0.\n",
      "  0.         0.5        0.         0.5        0.         0.\n",
      "  0.         0.         0.         0.5        0.         0.\n",
      "  0.5       ]\n",
      " [0.         0.         0.         0.         0.57735027 0.\n",
      "  0.57735027 0.         0.         0.         0.57735027 0.\n",
      "  0.         0.         0.         0.         0.         0.\n",
      "  0.        ]\n",
      " [0.         0.         0.         0.47552585 0.         0.25946904\n",
      "  0.         0.         0.         0.         0.         0.\n",
      "  0.25946904 0.30353936 0.30353936 0.         0.25946904 0.\n",
      "  0.        ]]\n"
     ]
    }
   ],
   "source": [
    "num = 5\n",
    "kmeans = KMeans(n_clusters = num, init = 'k-means++', max_iter = 500, n_init = 1)\n",
    "kmeans.fit(X)\n",
    "print(kmeans.cluster_centers_) #This will print cluster centroids as tf-idf vectors"
   ]
  },
  {
   "cell_type": "markdown",
   "id": "179b04b1",
   "metadata": {},
   "source": [
    "To predict the cluster for a new book title"
   ]
  },
  {
   "cell_type": "code",
   "execution_count": 24,
   "id": "9ec29b95",
   "metadata": {},
   "outputs": [
    {
     "name": "stdout",
     "output_type": "stream",
     "text": [
      "[1]\n"
     ]
    }
   ],
   "source": [
    "X = tfidfvect.transform([\"Data Structures and Algorithms\"])\n",
    "predicted = kmeans.predict(X)\n",
    "print(predicted)"
   ]
  },
  {
   "cell_type": "markdown",
   "id": "0efbde9f",
   "metadata": {},
   "source": [
    "This will give a result in the form of [n] in which n will indicate the cluster number to which the book \"Data Structures and Algorithms\" would belong."
   ]
  },
  {
   "cell_type": "code",
   "execution_count": null,
   "id": "5a6a0682",
   "metadata": {},
   "outputs": [],
   "source": []
  }
 ],
 "metadata": {
  "kernelspec": {
   "display_name": "Python 3",
   "language": "python",
   "name": "python3"
  },
  "language_info": {
   "codemirror_mode": {
    "name": "ipython",
    "version": 3
   },
   "file_extension": ".py",
   "mimetype": "text/x-python",
   "name": "python",
   "nbconvert_exporter": "python",
   "pygments_lexer": "ipython3",
   "version": "3.8.8"
  }
 },
 "nbformat": 4,
 "nbformat_minor": 5
}
